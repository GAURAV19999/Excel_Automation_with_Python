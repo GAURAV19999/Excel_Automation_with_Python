{
 "cells": [
  {
   "cell_type": "code",
   "execution_count": null,
   "id": "3a813c17",
   "metadata": {},
   "outputs": [],
   "source": [
    "import win32com.client as win32\n",
    "from pathlib import Path\n",
    "import sys\n",
    "import pandas as pd  # only used for synthetic data\n",
    "from pywintypes import com_error\n",
    "\n",
    "\n",
    "win32c = win32.constants"
   ]
  },
  {
   "cell_type": "code",
   "execution_count": null,
   "id": "5923727b",
   "metadata": {},
   "outputs": [],
   "source": [
    "# create excel object\n",
    "excel = win32.gencache.EnsureDispatch('Excel.Application')\n",
    "\n",
    "# excel can be visible or not\n",
    "excel.Visible = True  # False\n",
    "\n",
    "filename = Path.cwd() / 'test.xlsx'\n",
    "\n",
    "# try except for file / path\n",
    "try:\n",
    "    wb = excel.Workbooks.Open(filename)\n",
    "except com_error as e:\n",
    "    print(e.excepinfo)\n",
    "    if e.excepinfo[5] == -2146827284:\n",
    "        print(f'Failed to open spreadsheet.  Invalid filename or location: {filename}')\n",
    "    else:\n",
    "        raise e\n",
    "    sys.exit(1)\n",
    "    \n",
    "# set worksheet\n",
    "ws1 = wb.Sheets('Sheet1')"
   ]
  },
  {
   "cell_type": "code",
   "execution_count": null,
   "id": "882f124c",
   "metadata": {},
   "outputs": [],
   "source": [
    "used = ws1.UsedRange"
   ]
  },
  {
   "cell_type": "code",
   "execution_count": null,
   "id": "704be317",
   "metadata": {},
   "outputs": [],
   "source": [
    "used.Row"
   ]
  },
  {
   "cell_type": "code",
   "execution_count": null,
   "id": "10d4fe94",
   "metadata": {},
   "outputs": [],
   "source": [
    "used.Rows.Count"
   ]
  },
  {
   "cell_type": "code",
   "execution_count": null,
   "id": "fa38f237",
   "metadata": {},
   "outputs": [],
   "source": [
    "used.Column"
   ]
  },
  {
   "cell_type": "code",
   "execution_count": null,
   "id": "4758f45a",
   "metadata": {},
   "outputs": [],
   "source": [
    "used.Columns.Count"
   ]
  },
  {
   "cell_type": "code",
   "execution_count": null,
   "id": "04c2e246",
   "metadata": {},
   "outputs": [],
   "source": [
    "# selects the entire worksheet\n",
    "ws1.Cells.Select()"
   ]
  },
  {
   "cell_type": "code",
   "execution_count": null,
   "id": "ea731153",
   "metadata": {},
   "outputs": [],
   "source": [
    "# selects the specifc range\n",
    "ws1.Range('C3:D17').Select()"
   ]
  },
  {
   "cell_type": "code",
   "execution_count": null,
   "id": "79ef99e9",
   "metadata": {},
   "outputs": [],
   "source": [
    "# this copies the selected region\n",
    "excel.Selection.Copy()"
   ]
  },
  {
   "cell_type": "code",
   "execution_count": null,
   "id": "b719bc77",
   "metadata": {},
   "outputs": [],
   "source": [
    "# selects a new cell\n",
    "ws1.Range(\"G3\").Select()"
   ]
  },
  {
   "cell_type": "code",
   "execution_count": null,
   "id": "478f50a9",
   "metadata": {},
   "outputs": [],
   "source": [
    "# pastes the clipboard to the currently selected cell\n",
    "ws1.Paste()"
   ]
  },
  {
   "cell_type": "code",
   "execution_count": null,
   "id": "ffb89893",
   "metadata": {},
   "outputs": [],
   "source": [
    "# reads the clipboard to a dataframe\n",
    "df = pd.read_clipboard()\n",
    "df"
   ]
  },
  {
   "cell_type": "code",
   "execution_count": null,
   "id": "5fce000d",
   "metadata": {},
   "outputs": [],
   "source": [
    "wb.Save()\n",
    "excel.Application.Quit()"
   ]
  },
  {
   "cell_type": "code",
   "execution_count": null,
   "id": "2027c95f",
   "metadata": {},
   "outputs": [],
   "source": []
  }
 ],
 "metadata": {
  "kernelspec": {
   "display_name": "Python 3",
   "language": "python",
   "name": "python3"
  },
  "language_info": {
   "codemirror_mode": {
    "name": "ipython",
    "version": 3
   },
   "file_extension": ".py",
   "mimetype": "text/x-python",
   "name": "python",
   "nbconvert_exporter": "python",
   "pygments_lexer": "ipython3",
   "version": "3.8.8"
  }
 },
 "nbformat": 4,
 "nbformat_minor": 5
}
