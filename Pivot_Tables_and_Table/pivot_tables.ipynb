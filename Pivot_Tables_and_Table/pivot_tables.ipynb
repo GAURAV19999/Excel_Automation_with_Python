{
 "cells": [
  {
   "cell_type": "markdown",
   "metadata": {
    "collapsed": true
   },
   "source": [
    "# Create Excel Objects and Create Pivot Tables in Excel"
   ]
  },
  {
   "cell_type": "code",
   "execution_count": 1,
   "metadata": {
    "collapsed": true
   },
   "outputs": [],
   "source": [
    "import win32com.client as win32\n",
    "import sys\n",
    "import os\n",
    "from pythoncom import com_error\n",
    "\n",
    "win32c = win32.constants"
   ]
  },
  {
   "cell_type": "code",
   "execution_count": 2,
   "metadata": {
    "collapsed": true
   },
   "outputs": [],
   "source": [
    "def pivot_table(wb, ws1, pt_ws, num_test_cond, ws_name, pt_name, pt_rows, pt_filters, pt_fields):\n",
    "    \"\"\"\n",
    "    wb = workbook1 reference\n",
    "    ws1 = worksheet1\n",
    "    pt_ws = pivot table worksheet number\n",
    "    num_test_cond = number of unique TestCondition1 values (use for determine row locations)\n",
    "    ws_name = worksheet name\n",
    "    pt_name = name given to pivot table\n",
    "    pt_rows, pt_filters, pt_fields: values selected for filling the pivot tables\n",
    "    \"\"\"\n",
    "\n",
    "    pt_loc = len(pt_filters) + 2\n",
    "    \n",
    "    pc = wb.PivotCaches().Create(SourceType=win32c.xlDatabase, SourceData=ws1.UsedRange)\n",
    "    pc.CreatePivotTable(TableDestination=f'{ws_name}!R{pt_loc}C1', TableName=pt_name)\n",
    "\n",
    "    pt_ws.Select()\n",
    "    pt_ws.Cells(pt_loc, 1).Select()\n",
    "\n",
    "    \"\"\"Sets the rows and filters of the pivot table\"\"\"\n",
    "\n",
    "    for field_list, field_c in ((pt_filters, win32c.xlPageField), (pt_rows, win32c.xlRowField)):\n",
    "        for i, value in enumerate(field_list):\n",
    "            pt_ws.PivotTables(pt_name).PivotFields(value).Orientation = field_c\n",
    "            pt_ws.PivotTables(pt_name).PivotFields(value).Position = i + 1\n",
    "\n",
    "    \"\"\"Sets the Values of the pivot table\"\"\"\n",
    "\n",
    "    for field in pt_fields:\n",
    "        pt_ws.PivotTables(pt_name).AddDataField(pt_ws.PivotTables(pt_name).PivotFields(field[0]), field[1], field[2])\n",
    "\n",
    "    \n",
    "    pt_ws.PivotTables(pt_name).ShowValuesRow = False\n",
    "    pt_ws.PivotTables(pt_name).ColumnGrand = False\n",
    "\n",
    "    \"\"\"Hides details under each row section - generic form\"\"\"\n",
    "    \n",
    "    row_first_chart_value = pt_loc + 1\n",
    "    row_last_chart_value = row_first_chart_value + num_test_cond  # this is used to hide detail in the PT\n",
    "    \n",
    "    '''\n",
    "    for x in range(row_first_chart_value, row_last_chart_value, 1):\n",
    "        pt_ws.Cells(x, 1).Select()\n",
    "        cell_value = (str(pt_ws.Cells(x, 1).Value)).rstrip('0').rstrip('.')\n",
    "        pt_ws.PivotTables(pt_name).PivotFields('TestCondition1').PivotItems(f'{cell_value}').ShowDetail = False\n",
    "    '''\n",
    "        \n",
    "    return row_first_chart_value, row_last_chart_value\n"
   ]
  },
  {
   "cell_type": "code",
   "execution_count": 3,
   "metadata": {
    "collapsed": true
   },
   "outputs": [],
   "source": [
    "def run_excel():\n",
    "\n",
    "    filename = os.path.join(f_path, f_name)\n",
    "    excel = win32.gencache.EnsureDispatch('Excel.Application')\n",
    "    excel.Visible = True\n",
    "    try:\n",
    "        wb = excel.Workbooks.Open(filename)\n",
    "    except com_error as e:\n",
    "        if e.excepinfo[5] == -2146827284:\n",
    "            print(f'Failed to open spreadsheet.  Invalid filename or location: {filename}')\n",
    "        else:\n",
    "            raise e\n",
    "        sys.exit(1)\n",
    "    \n",
    "    ws1 = wb.Sheets('Dual_Edge_Power')\n",
    "    \n",
    "    \"\"\"Determine number of unique TestConditon1 values\"\"\"\n",
    "    last_r = ws1.UsedRange.Rows.Count\n",
    "    column_values = set()\n",
    "    for x in range(2, last_r + 1, 1):\n",
    "        column_values.add(ws1.Range(f'N{x}').Value)\n",
    "    unique_testconditions = len(column_values)\n",
    "    \n",
    "    worksheet_name2 = 'Average_of_Max'\n",
    "    wb.Sheets.Add().Name = worksheet_name2\n",
    "    ws2 = wb.Sheets(worksheet_name2)\n",
    "    row_first_chart_value2, row_last_chart_value2 = pivot_table(wb, ws1, ws2, unique_testconditions,\n",
    "                ws_name = worksheet_name2,\n",
    "                pt_name = 'PivotTable1',\n",
    "                pt_rows = ['TestCondition1', 'TestCondition2'],\n",
    "                pt_filters = ['Aux(V)', 'Main(V)', 'Temp(C)'],\n",
    "                pt_fields = [['Max_I_TC1(A)', 'Avgerage of Max_I_TC1(A)', win32c.xlAverage],\n",
    "                             ['Max_I_TC2(A)', 'Avgerage of Max_I_TC2(A)', win32c.xlAverage],\n",
    "                             ['Total_Pwr(W)', 'Avgerage of Total_Pwr(W)', win32c.xlAverage]])\n",
    "\n",
    "    worksheet_name3 = 'Max_of_Max'\n",
    "    wb.Sheets.Add().Name = worksheet_name3\n",
    "    ws3 = wb.Sheets(worksheet_name3)\n",
    "    row_first_chart_value3, row_last_chart_value3 = pivot_table(wb, ws1, ws3, unique_testconditions,\n",
    "                ws_name = worksheet_name3,\n",
    "                pt_name = 'PivotTable2',\n",
    "                pt_rows = ['TestCondition1', 'TestCondition2'],\n",
    "                pt_filters = [],\n",
    "                pt_fields = [['Max_I_TC1(A)', 'Max of Max_I_TC1(A)', win32c.xlMax],\n",
    "                             ['Max_I_TC2(A)', 'Max of Max_I_TC2(A)', win32c.xlMax],\n",
    "                             ['Total_Pwr(W)', 'Max of Total_Pwr(W)', win32c.xlMax]])\n",
    "\n",
    "    print(row_first_chart_value2, row_last_chart_value2, row_first_chart_value3, row_last_chart_value3)"
   ]
  },
  {
   "cell_type": "code",
   "execution_count": 5,
   "metadata": {},
   "outputs": [
    {
     "name": "stdout",
     "output_type": "stream",
     "text": [
      "6 10 3 7\n"
     ]
    }
   ],
   "source": [
    "f_name = 'pivot_tables.xlsx'\n",
    "f_path = r'C:\\PythonProjects\\Excel_Automation_with_Python\\Pivot_Tables_and_Table'\n",
    "\n",
    "run_excel()"
   ]
  },
  {
   "cell_type": "markdown",
   "metadata": {
    "collapsed": true
   },
   "source": [
    "## Save the test file and close it - manually\n",
    "### Restart the kernel and clear the output from the Kernel menu at the top"
   ]
  },
  {
   "cell_type": "markdown",
   "metadata": {
    "collapsed": true
   },
   "source": [
    "# Create a table from the Edge Power data for the Electrical Validation Report"
   ]
  },
  {
   "cell_type": "markdown",
   "metadata": {},
   "source": [
    "The section is for testing the implementaion of the table creation code so does not use methods (as above) to work with the Excel objects.  \n",
    "\n",
    "The Excel objects below are created so each subsequent cell can use the object, which is easier for testing a specific implemention of some Excel method (i.e. all the code doesn't need to be run each time like above), as only the snippet being tested in a cell requires running."
   ]
  },
  {
   "cell_type": "code",
   "execution_count": 1,
   "metadata": {
    "collapsed": true
   },
   "outputs": [],
   "source": [
    "import win32com.client as win32\n",
    "import sys\n",
    "import os\n",
    "from pythoncom import com_error\n",
    "\n",
    "win32c = win32.constants"
   ]
  },
  {
   "cell_type": "code",
   "execution_count": 2,
   "metadata": {
    "collapsed": true
   },
   "outputs": [],
   "source": [
    "f_name = 'pivot_table.xlsx'\n",
    "f_path = r'C:\\PythonProjects\\Excel_Automation_with_Python\\Pivot_Tables_and_Table'"
   ]
  },
  {
   "cell_type": "code",
   "execution_count": 3,
   "metadata": {
    "collapsed": true
   },
   "outputs": [],
   "source": [
    "filename = os.path.join(f_path, f_name)\n",
    "excel = win32.gencache.EnsureDispatch('Excel.Application')\n",
    "excel.Visible = True\n",
    "try:\n",
    "    wb = excel.Workbooks.Open(filename)\n",
    "except com_error as e:\n",
    "    if e.excepinfo[5] == -2146827284:\n",
    "        print(f'Failed to open spreadsheet.  Invalid filename or location: {filename}')\n",
    "    else:\n",
    "        raise e\n",
    "    sys.exit(1)\n",
    "\n",
    "ws1 = wb.Sheets('Dual_Edge_Power')\n",
    "ws2 = wb.Sheets('Average_of_Max')\n",
    "ws3 = wb.Sheets('Max_of_Max')"
   ]
  },
  {
   "cell_type": "code",
   "execution_count": 4,
   "metadata": {},
   "outputs": [
    {
     "name": "stdout",
     "output_type": "stream",
     "text": [
      "Number of Test Condition1 values: 4\n",
      "Test Condition1: {'25G_CR_12V_MAIN_NCSI depop', '10G_LR_12V_MAIN_NCSI depop', '10G_SR_12V_MAIN_NCSI depop', '25G_SR_12V_MAIN_NCSI depop'}\n"
     ]
    }
   ],
   "source": [
    "\"\"\"Looks at ws1 (Dual_Edge_Power), Column N (TestCondition1) and returns a set of unique values\"\"\"\n",
    "last_r = ws1.UsedRange.Rows.Count\n",
    "column_values = set()\n",
    "\n",
    "for x in range(2, last_r + 1, 1):\n",
    "    column_values.add(ws1.Range(f'N{x}').Value)\n",
    "    \n",
    "print(f'Number of Test Condition1 values: {len(column_values)}')\n",
    "print(f'Test Condition1: {column_values}')"
   ]
  },
  {
   "cell_type": "code",
   "execution_count": 5,
   "metadata": {
    "collapsed": true
   },
   "outputs": [],
   "source": [
    "ws2_first_data_row = 6\n",
    "ws2_last_data_row = 13\n",
    "ws3_first_data_row = 3\n",
    "ws3_last_data_row= 10"
   ]
  },
  {
   "cell_type": "code",
   "execution_count": 6,
   "metadata": {
    "collapsed": true
   },
   "outputs": [],
   "source": [
    "\"\"\"Create EV Report Table worksheet\"\"\"\n",
    "worksheet_ev_table = 'EV_Report_Table'\n",
    "wb.Sheets.Add().Name = worksheet_ev_table\n",
    "ws4 = wb.Sheets(worksheet_ev_table)"
   ]
  },
  {
   "cell_type": "code",
   "execution_count": 7,
   "metadata": {
    "collapsed": true
   },
   "outputs": [],
   "source": [
    "\"\"\"Table Headers\"\"\"\n",
    "table_headers = ['Test Point', 'Typical I (A)', 'Maximum I (A)', 'Max Total Power (W)', 'Spec', 'Status']\n",
    "\n",
    "for x, col_header in enumerate(table_headers):\n",
    "    ws4.Cells(2, x + 2).Value = col_header"
   ]
  },
  {
   "cell_type": "code",
   "execution_count": 8,
   "metadata": {
    "collapsed": true
   },
   "outputs": [],
   "source": [
    "\"\"\"Create a list of Test Point(s) (table row headers) from ws3 (Max of Max)\"\"\"\n",
    "test_points = []\n",
    "for x in range(ws3_first_data_row, ws3_last_data_row + 1):\n",
    "    test_points.append(ws3.Cells(x, 1).Value)"
   ]
  },
  {
   "cell_type": "code",
   "execution_count": 9,
   "metadata": {
    "collapsed": true
   },
   "outputs": [],
   "source": [
    "\"\"\"Write Table row header formulas\"\"\"\n",
    "for x in range(ws3_first_data_row, ws3_last_data_row + 1):\n",
    "    ws4.Cells(x, 2).Value = f'=Max_of_Max!A{x}'"
   ]
  },
  {
   "cell_type": "code",
   "execution_count": 10,
   "metadata": {
    "collapsed": true
   },
   "outputs": [],
   "source": [
    "\"\"\"Set column filters and copy specification (tolerance) value\"\"\"\n",
    "\n",
    "\n",
    "def get_tol_address(i, test_condition):\n",
    "    \n",
    "    ws1.Activate() # set Dual_Edge_Power (data worksheet) as active\n",
    "\n",
    "    if i % 2 == 0:\n",
    "        col_select = [14, 'Q1']\n",
    "    else:\n",
    "        col_select = [19, 'V1']\n",
    "\n",
    "    ws1.UsedRange.AutoFilter(col_select[0]) # remove column filter (set to all)\n",
    "    ws1.UsedRange.AutoFilter(col_select[0], test_condition) # set specific Column filter\n",
    "    ws1.Range(col_select[1]).End(win32c.xlDown).Select() # select last cell in the I_Tol column (Q or V)\n",
    "    cell_address = excel.Selection.Address # get the selected cell address\n",
    "    # print(cell_address)\n",
    "    # print(ws1.Range(f'{cell_address}').Value)\n",
    "    ws1.Range(col_select[1]).End(win32c.xlUp).Select() # reset to rol 1\n",
    "    ws1.UsedRange.AutoFilter(col_select[0]) # remove column filter (set to all)\n",
    "\n",
    "    return cell_address\n"
   ]
  },
  {
   "cell_type": "code",
   "execution_count": 11,
   "metadata": {
    "collapsed": true
   },
   "outputs": [],
   "source": [
    "\"\"\"Write Maximum I (A), Typical I (A), and Max Total Power (W) cell equations\"\"\"\n",
    "for x, row_header in enumerate(test_points):\n",
    "    \n",
    "    tol_address = get_tol_address(x, row_header)\n",
    "    if x % 2 == 0:\n",
    "        ws4.Cells(x + 3, 4).Value = f'=GETPIVOTDATA(\"Max of Max_I_TC1(A)\",Max_of_Max!R2C1,\"TestCondition1\",\"{row_header}\")'\n",
    "        ws4.Cells(x + 3, 3).Value = f'=GETPIVOTDATA(\"Avgerage of Max_I_TC1(A)\",Average_of_Max!R5C1,\"TestCondition1\",\"{row_header}\")'\n",
    "        ws4.Cells(x + 3, 5).Value = f'=GETPIVOTDATA(\"Max of Total_Pwr(W)\",Max_of_Max!R2C1,\"TestCondition1\",\"{row_header}\")'\n",
    "    else:\n",
    "        ws4.Cells(x + 3, 4).Value = f'=GETPIVOTDATA(\"Max of Max_I_TC2(A)\",Max_of_Max!R2C1,\"TestCondition1\",\"{test_points[x - 1]}\")'\n",
    "        ws4.Cells(x + 3, 3).Value = f'=GETPIVOTDATA(\"Avgerage of Max_I_TC2(A)\",Average_of_Max!R5C1,\"TestCondition1\",\"{test_points[x - 1]}\")'\n",
    "        \n",
    "    ws4.Cells(x + 3, 6).Value = f'=Dual_Edge_Power!{tol_address}'\n",
    "    ws4.Cells(x + 3, 7).Value = f'=if(D{x + 3}>F{x + 3},\"Fail\",\"Pass\")'\n",
    "    \n",
    "ws4.Activate()  # set the EV Report Table worksheet as active"
   ]
  },
  {
   "cell_type": "markdown",
   "metadata": {},
   "source": [
    "# Format the Table"
   ]
  },
  {
   "cell_type": "code",
   "execution_count": 12,
   "metadata": {
    "collapsed": true
   },
   "outputs": [],
   "source": [
    "\"\"\"Merge and Center Max Total Power (W) column\"\"\"\n",
    "for x in range(ws3_first_data_row, ws3_last_data_row + 1, 2):\n",
    "    ws4.Range(f'E{x}:E{x + 1}').Merge()\n",
    "    ws4.Range(f'E{x}:E{x + 1}').HorizontalAlignment = win32c.xlCenter\n",
    "    ws4.Range(f'E{x}:E{x + 1}').VerticalAlignment = win32c.xlCenter"
   ]
  },
  {
   "cell_type": "code",
   "execution_count": 13,
   "metadata": {},
   "outputs": [
    {
     "data": {
      "text/plain": [
       "True"
      ]
     },
     "execution_count": 13,
     "metadata": {},
     "output_type": "execute_result"
    }
   ],
   "source": [
    "last_table_row = len(test_points) + 2\n",
    "\n",
    "\"\"\"Format Numbers\"\"\"\n",
    "ws4.Range(f'C3:F{last_table_row}').Select()\n",
    "excel.Selection.NumberFormat = \"0.000\"\n",
    "\n",
    "\"\"\"Autofit Width\"\"\"\n",
    "ws4.Columns('B:G').EntireColumn.AutoFit()\n"
   ]
  },
  {
   "cell_type": "code",
   "execution_count": 14,
   "metadata": {
    "collapsed": true
   },
   "outputs": [],
   "source": [
    "\"\"\"Conditional Formatting\"\"\"\n",
    "# ws4.Range(f'G3:G{last_table_row}').Select()\n",
    "\n",
    "'Condition, Font Color, Fill Color'\n",
    "conditional_formatting = {'Pass': [-16752384, 13561798],\n",
    "                          'Fail': [-16383844, 13551615]}\n",
    "\n",
    "for k, v in conditional_formatting.items():\n",
    "    ws4.Range(f'G3:G{last_table_row}').Select()\n",
    "    excel.Selection.FormatConditions.Add(Type=win32c.xlTextString, TextOperator=win32c.xlContains, String=k)\n",
    "    excel.Selection.FormatConditions(excel.Selection.FormatConditions.Count).SetFirstPriority()\n",
    "    excel.Selection.FormatConditions(1).Font.Color = v[0]\n",
    "    excel.Selection.FormatConditions(1).Interior.PatternColorIndex = win32c.xlAutomatic\n",
    "    excel.Selection.FormatConditions(1).Interior.Color = v[1]\n",
    "\n"
   ]
  },
  {
   "cell_type": "code",
   "execution_count": 15,
   "metadata": {
    "collapsed": true
   },
   "outputs": [],
   "source": [
    "\"\"\"Set the Table Boarders\"\"\"\n",
    "border_types = {win32c.xlEdgeLeft : win32c.xlMedium, win32c.xlEdgeTop : win32c.xlMedium, win32c.xlEdgeBottom : win32c.xlMedium,\n",
    "                win32c.xlEdgeRight : win32c.xlMedium, win32c.xlInsideVertical : win32c.xlThin, win32c.xlInsideHorizontal : win32c.xlThin}\n",
    "\n",
    "for k, v in border_types.items():\n",
    "    ws4.Range(f'B2:G{last_table_row}').Select()\n",
    "    excel.Selection.Borders(k).Weight = v"
   ]
  },
  {
   "cell_type": "markdown",
   "metadata": {
    "collapsed": true
   },
   "source": [
    "# Examples"
   ]
  },
  {
   "cell_type": "code",
   "execution_count": 40,
   "metadata": {},
   "outputs": [
    {
     "data": {
      "text/plain": [
       "25"
      ]
     },
     "execution_count": 40,
     "metadata": {},
     "output_type": "execute_result"
    }
   ],
   "source": [
    "\"\"\"Determine last row used\"\"\" \n",
    "used = ws3.UsedRange  # create the UsedRange object\n",
    "# used.Row -> returns first row used, Rows.Count -> number of row used\n",
    "nrows = used.Row + used.Rows.Count - 1\n",
    "nrows  # -> last row with a value in it"
   ]
  },
  {
   "cell_type": "code",
   "execution_count": null,
   "metadata": {
    "collapsed": true,
    "scrolled": true
   },
   "outputs": [],
   "source": [
    "\"\"\"Set column filters and copy specification (tolerance) value\"\"\"\n",
    "for i, test_point in enumerate(test_points):\n",
    "    if i % 2 == 0:\n",
    "        col_select = [14, 'Q1']\n",
    "    else:\n",
    "        col_select = [19, 'V1']\n",
    "\n",
    "    ws1.UsedRange.AutoFilter(col_select[0]) # remove column filter (set to all)\n",
    "    ws1.UsedRange.AutoFilter(col_select[0], test_point) # set specific Column filter\n",
    "    ws1.Range(col_select[1]).End(win32c.xlDown).Select() # select last cell in the I_Tol column (Q or V)\n",
    "    cell_address = excel.Selection.Address # get the selected cell address\n",
    "    print(cell_address)\n",
    "    print(ws1.Range(f'{cell_address}').Value)\n",
    "    ws1.Range(col_select[1]).End(win32c.xlUp).Select() # reset to rol 1\n",
    "    ws1.UsedRange.AutoFilter(col_select[0]) # remove column filter (set to all)\n"
   ]
  },
  {
   "cell_type": "code",
   "execution_count": null,
   "metadata": {
    "collapsed": true
   },
   "outputs": [],
   "source": [
    "\"\"\"List comprehension testing - not used for anything specific\"\"\"\n",
    "poop = ['10G_LR_12V_MAIN_NCSI depop', 'LR_3P3V_AUX_D0']\n",
    "for x in poop:\n",
    "    for y in ['_MAIN', '_AUX']:\n",
    "        if y in x.upper():\n",
    "            pooo = ((x.upper()).split(y))[0].replace('_', ' ')\n",
    "            print(pooo)\n"
   ]
  }
 ],
 "metadata": {
  "kernelspec": {
   "display_name": "Python 3",
   "language": "python",
   "name": "python3"
  },
  "language_info": {
   "codemirror_mode": {
    "name": "ipython",
    "version": 3
   },
   "file_extension": ".py",
   "mimetype": "text/x-python",
   "name": "python",
   "nbconvert_exporter": "python",
   "pygments_lexer": "ipython3",
   "version": "3.6.2"
  }
 },
 "nbformat": 4,
 "nbformat_minor": 2
}
